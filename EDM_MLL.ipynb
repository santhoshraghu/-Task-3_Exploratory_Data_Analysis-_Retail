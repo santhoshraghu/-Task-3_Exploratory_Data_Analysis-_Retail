{
  "nbformat": 4,
  "nbformat_minor": 0,
  "metadata": {
    "kernelspec": {
      "display_name": "Python 3",
      "language": "python",
      "name": "python3"
    },
    "language_info": {
      "codemirror_mode": {
        "name": "ipython",
        "version": 3
      },
      "file_extension": ".py",
      "mimetype": "text/x-python",
      "name": "python",
      "nbconvert_exporter": "python",
      "pygments_lexer": "ipython3",
      "version": "3.7.3"
    },
    "colab": {
      "name": "EDM-MLL.ipynb",
      "provenance": [],
      "collapsed_sections": [],
      "toc_visible": true,
      "include_colab_link": true
    }
  },
  "cells": [
    {
      "cell_type": "markdown",
      "metadata": {
        "id": "view-in-github",
        "colab_type": "text"
      },
      "source": [
        "<a href=\"https://colab.research.google.com/github/santhoshraghu/-Task-3_Exploratory_Data_Analysis-_Retail/blob/main/EDM_MLL.ipynb\" target=\"_parent\"><img src=\"https://colab.research.google.com/assets/colab-badge.svg\" alt=\"Open In Colab\"/></a>"
      ]
    },
    {
      "cell_type": "markdown",
      "metadata": {
        "id": "nssxMAS9vN0n"
      },
      "source": [
        "## Importing Libraries:"
      ]
    },
    {
      "cell_type": "code",
      "metadata": {
        "id": "QWZM9NgivN00"
      },
      "source": [
        "import pandas as pd\n",
        "import numpy as np\n",
        "import seaborn as sns\n",
        "import matplotlib.pyplot as plt"
      ],
      "execution_count": 1,
      "outputs": []
    },
    {
      "cell_type": "markdown",
      "metadata": {
        "id": "g-PH58OwvN02"
      },
      "source": [
        "## Loading data:"
      ]
    },
    {
      "cell_type": "code",
      "metadata": {
        "colab": {
          "base_uri": "https://localhost:8080/",
          "height": 197
        },
        "id": "DhtPlckTvN03",
        "outputId": "bfec08b5-862d-4ea8-bb77-843ea21c60f8"
      },
      "source": [
        "df=pd.read_csv(\"edmdf.csv\")\n",
        "#df=pd.read_csv(r\"C:\\Users\\Santhosh Raghu\\edmdata.csv\",encoding='latin-1')\n",
        "df.head()"
      ],
      "execution_count": 3,
      "outputs": [
        {
          "output_type": "execute_result",
          "data": {
            "text/html": [
              "<div>\n",
              "<style scoped>\n",
              "    .dataframe tbody tr th:only-of-type {\n",
              "        vertical-align: middle;\n",
              "    }\n",
              "\n",
              "    .dataframe tbody tr th {\n",
              "        vertical-align: top;\n",
              "    }\n",
              "\n",
              "    .dataframe thead th {\n",
              "        text-align: right;\n",
              "    }\n",
              "</style>\n",
              "<table border=\"1\" class=\"dataframe\">\n",
              "  <thead>\n",
              "    <tr style=\"text-align: right;\">\n",
              "      <th></th>\n",
              "      <th>No_of_Experiments</th>\n",
              "      <th>Pc(A)</th>\n",
              "      <th>PT(µs)</th>\n",
              "      <th>Gv(V)</th>\n",
              "      <th>Dielectric_Fluids</th>\n",
              "      <th>MRR (mg/min)</th>\n",
              "      <th>SR (µm)</th>\n",
              "    </tr>\n",
              "  </thead>\n",
              "  <tbody>\n",
              "    <tr>\n",
              "      <th>0</th>\n",
              "      <td>1</td>\n",
              "      <td>5</td>\n",
              "      <td>14</td>\n",
              "      <td>30</td>\n",
              "      <td>SDF</td>\n",
              "      <td>6.80</td>\n",
              "      <td>5.079</td>\n",
              "    </tr>\n",
              "    <tr>\n",
              "      <th>1</th>\n",
              "      <td>2</td>\n",
              "      <td>2</td>\n",
              "      <td>20</td>\n",
              "      <td>50</td>\n",
              "      <td>C-0.5</td>\n",
              "      <td>10.74</td>\n",
              "      <td>3.873</td>\n",
              "    </tr>\n",
              "    <tr>\n",
              "      <th>2</th>\n",
              "      <td>3</td>\n",
              "      <td>2</td>\n",
              "      <td>14</td>\n",
              "      <td>10</td>\n",
              "      <td>C-0.5</td>\n",
              "      <td>12.26</td>\n",
              "      <td>3.105</td>\n",
              "    </tr>\n",
              "    <tr>\n",
              "      <th>3</th>\n",
              "      <td>4</td>\n",
              "      <td>8</td>\n",
              "      <td>14</td>\n",
              "      <td>10</td>\n",
              "      <td>C-1.5</td>\n",
              "      <td>7.50</td>\n",
              "      <td>4.810</td>\n",
              "    </tr>\n",
              "    <tr>\n",
              "      <th>4</th>\n",
              "      <td>5</td>\n",
              "      <td>8</td>\n",
              "      <td>8</td>\n",
              "      <td>50</td>\n",
              "      <td>SDF</td>\n",
              "      <td>4.59</td>\n",
              "      <td>4.130</td>\n",
              "    </tr>\n",
              "  </tbody>\n",
              "</table>\n",
              "</div>"
            ],
            "text/plain": [
              "   No_of_Experiments  Pc(A)  PT(µs)  ...  Dielectric_Fluids MRR (mg/min)  SR (µm)\n",
              "0                  1      5      14  ...                SDF         6.80    5.079\n",
              "1                  2      2      20  ...              C-0.5        10.74    3.873\n",
              "2                  3      2      14  ...              C-0.5        12.26    3.105\n",
              "3                  4      8      14  ...              C-1.5         7.50    4.810\n",
              "4                  5      8       8  ...                SDF         4.59    4.130\n",
              "\n",
              "[5 rows x 7 columns]"
            ]
          },
          "metadata": {
            "tags": []
          },
          "execution_count": 3
        }
      ]
    },
    {
      "cell_type": "markdown",
      "metadata": {
        "id": "fXsCRvWSvN06"
      },
      "source": [
        "## EDM:"
      ]
    },
    {
      "cell_type": "markdown",
      "metadata": {
        "id": "qTlWpU8yvN07"
      },
      "source": [
        "### Data study:"
      ]
    },
    {
      "cell_type": "code",
      "metadata": {
        "colab": {
          "base_uri": "https://localhost:8080/"
        },
        "id": "ePUSxuzRvN07",
        "outputId": "ff048618-727a-47c1-8db9-0c138835a3e7"
      },
      "source": [
        "df.shape"
      ],
      "execution_count": 4,
      "outputs": [
        {
          "output_type": "execute_result",
          "data": {
            "text/plain": [
              "(32, 7)"
            ]
          },
          "metadata": {
            "tags": []
          },
          "execution_count": 4
        }
      ]
    },
    {
      "cell_type": "code",
      "metadata": {
        "colab": {
          "base_uri": "https://localhost:8080/"
        },
        "id": "AxLcDWGgvN08",
        "outputId": "09654db5-e153-4956-8a47-37f4a1288c33"
      },
      "source": [
        "df.info()"
      ],
      "execution_count": 13,
      "outputs": [
        {
          "output_type": "stream",
          "text": [
            "<class 'pandas.core.frame.DataFrame'>\n",
            "RangeIndex: 32 entries, 0 to 31\n",
            "Data columns (total 7 columns):\n",
            " #   Column             Non-Null Count  Dtype  \n",
            "---  ------             --------------  -----  \n",
            " 0   No_of_Experiments  32 non-null     int64  \n",
            " 1   Pc(A)              32 non-null     int64  \n",
            " 2   PT(µs)             32 non-null     int64  \n",
            " 3   Gv(V)              32 non-null     int64  \n",
            " 4   Dielectric_Fluids  32 non-null     object \n",
            " 5   MRR (mg/min)       32 non-null     float64\n",
            " 6   SR (µm)            32 non-null     float64\n",
            "dtypes: float64(2), int64(4), object(1)\n",
            "memory usage: 1.9+ KB\n"
          ],
          "name": "stdout"
        }
      ]
    },
    {
      "cell_type": "code",
      "metadata": {
        "colab": {
          "base_uri": "https://localhost:8080/",
          "height": 287
        },
        "id": "BW49IUiVvN0-",
        "outputId": "28efa3ca-82d0-4225-f432-2e049b5cd1db"
      },
      "source": [
        "df.describe()"
      ],
      "execution_count": 6,
      "outputs": [
        {
          "output_type": "execute_result",
          "data": {
            "text/html": [
              "<div>\n",
              "<style scoped>\n",
              "    .dataframe tbody tr th:only-of-type {\n",
              "        vertical-align: middle;\n",
              "    }\n",
              "\n",
              "    .dataframe tbody tr th {\n",
              "        vertical-align: top;\n",
              "    }\n",
              "\n",
              "    .dataframe thead th {\n",
              "        text-align: right;\n",
              "    }\n",
              "</style>\n",
              "<table border=\"1\" class=\"dataframe\">\n",
              "  <thead>\n",
              "    <tr style=\"text-align: right;\">\n",
              "      <th></th>\n",
              "      <th>No_of_Experiments</th>\n",
              "      <th>Pc(A)</th>\n",
              "      <th>PT(µs)</th>\n",
              "      <th>Gv(V)</th>\n",
              "      <th>MRR (mg/min)</th>\n",
              "      <th>SR (µm)</th>\n",
              "    </tr>\n",
              "  </thead>\n",
              "  <tbody>\n",
              "    <tr>\n",
              "      <th>count</th>\n",
              "      <td>32.000000</td>\n",
              "      <td>32.00000</td>\n",
              "      <td>32.000000</td>\n",
              "      <td>32.000000</td>\n",
              "      <td>32.000000</td>\n",
              "      <td>32.000000</td>\n",
              "    </tr>\n",
              "    <tr>\n",
              "      <th>mean</th>\n",
              "      <td>16.500000</td>\n",
              "      <td>5.46875</td>\n",
              "      <td>15.500000</td>\n",
              "      <td>31.250000</td>\n",
              "      <td>8.930688</td>\n",
              "      <td>3.982844</td>\n",
              "    </tr>\n",
              "    <tr>\n",
              "      <th>std</th>\n",
              "      <td>9.380832</td>\n",
              "      <td>2.42280</td>\n",
              "      <td>4.572005</td>\n",
              "      <td>15.187006</td>\n",
              "      <td>5.803524</td>\n",
              "      <td>1.093715</td>\n",
              "    </tr>\n",
              "    <tr>\n",
              "      <th>min</th>\n",
              "      <td>1.000000</td>\n",
              "      <td>2.00000</td>\n",
              "      <td>8.000000</td>\n",
              "      <td>10.000000</td>\n",
              "      <td>3.300000</td>\n",
              "      <td>1.978000</td>\n",
              "    </tr>\n",
              "    <tr>\n",
              "      <th>25%</th>\n",
              "      <td>8.750000</td>\n",
              "      <td>4.25000</td>\n",
              "      <td>14.000000</td>\n",
              "      <td>25.000000</td>\n",
              "      <td>5.655000</td>\n",
              "      <td>3.099500</td>\n",
              "    </tr>\n",
              "    <tr>\n",
              "      <th>50%</th>\n",
              "      <td>16.500000</td>\n",
              "      <td>5.00000</td>\n",
              "      <td>14.000000</td>\n",
              "      <td>30.000000</td>\n",
              "      <td>7.225000</td>\n",
              "      <td>3.892500</td>\n",
              "    </tr>\n",
              "    <tr>\n",
              "      <th>75%</th>\n",
              "      <td>24.250000</td>\n",
              "      <td>8.00000</td>\n",
              "      <td>20.000000</td>\n",
              "      <td>50.000000</td>\n",
              "      <td>10.862500</td>\n",
              "      <td>4.818000</td>\n",
              "    </tr>\n",
              "    <tr>\n",
              "      <th>max</th>\n",
              "      <td>32.000000</td>\n",
              "      <td>8.00000</td>\n",
              "      <td>20.000000</td>\n",
              "      <td>50.000000</td>\n",
              "      <td>33.720000</td>\n",
              "      <td>6.861000</td>\n",
              "    </tr>\n",
              "  </tbody>\n",
              "</table>\n",
              "</div>"
            ],
            "text/plain": [
              "       No_of_Experiments     Pc(A)  ...  MRR (mg/min)    SR (µm)\n",
              "count          32.000000  32.00000  ...     32.000000  32.000000\n",
              "mean           16.500000   5.46875  ...      8.930688   3.982844\n",
              "std             9.380832   2.42280  ...      5.803524   1.093715\n",
              "min             1.000000   2.00000  ...      3.300000   1.978000\n",
              "25%             8.750000   4.25000  ...      5.655000   3.099500\n",
              "50%            16.500000   5.00000  ...      7.225000   3.892500\n",
              "75%            24.250000   8.00000  ...     10.862500   4.818000\n",
              "max            32.000000   8.00000  ...     33.720000   6.861000\n",
              "\n",
              "[8 rows x 6 columns]"
            ]
          },
          "metadata": {
            "tags": []
          },
          "execution_count": 6
        }
      ]
    },
    {
      "cell_type": "code",
      "metadata": {
        "colab": {
          "base_uri": "https://localhost:8080/",
          "height": 227
        },
        "id": "OYGchIn2vN1A",
        "outputId": "ed440908-0ed5-49bd-a0eb-b32abee976a2"
      },
      "source": [
        "df.corr()"
      ],
      "execution_count": 7,
      "outputs": [
        {
          "output_type": "execute_result",
          "data": {
            "text/html": [
              "<div>\n",
              "<style scoped>\n",
              "    .dataframe tbody tr th:only-of-type {\n",
              "        vertical-align: middle;\n",
              "    }\n",
              "\n",
              "    .dataframe tbody tr th {\n",
              "        vertical-align: top;\n",
              "    }\n",
              "\n",
              "    .dataframe thead th {\n",
              "        text-align: right;\n",
              "    }\n",
              "</style>\n",
              "<table border=\"1\" class=\"dataframe\">\n",
              "  <thead>\n",
              "    <tr style=\"text-align: right;\">\n",
              "      <th></th>\n",
              "      <th>No_of_Experiments</th>\n",
              "      <th>Pc(A)</th>\n",
              "      <th>PT(µs)</th>\n",
              "      <th>Gv(V)</th>\n",
              "      <th>MRR (mg/min)</th>\n",
              "      <th>SR (µm)</th>\n",
              "    </tr>\n",
              "  </thead>\n",
              "  <tbody>\n",
              "    <tr>\n",
              "      <th>No_of_Experiments</th>\n",
              "      <td>1.000000</td>\n",
              "      <td>0.048966</td>\n",
              "      <td>0.216612</td>\n",
              "      <td>-0.208311</td>\n",
              "      <td>0.139284</td>\n",
              "      <td>-0.186697</td>\n",
              "    </tr>\n",
              "    <tr>\n",
              "      <th>Pc(A)</th>\n",
              "      <td>0.048966</td>\n",
              "      <td>1.000000</td>\n",
              "      <td>0.039314</td>\n",
              "      <td>-0.174243</td>\n",
              "      <td>0.211946</td>\n",
              "      <td>0.196911</td>\n",
              "    </tr>\n",
              "    <tr>\n",
              "      <th>PT(µs)</th>\n",
              "      <td>0.216612</td>\n",
              "      <td>0.039314</td>\n",
              "      <td>1.000000</td>\n",
              "      <td>-0.195123</td>\n",
              "      <td>0.287010</td>\n",
              "      <td>0.001442</td>\n",
              "    </tr>\n",
              "    <tr>\n",
              "      <th>Gv(V)</th>\n",
              "      <td>-0.208311</td>\n",
              "      <td>-0.174243</td>\n",
              "      <td>-0.195123</td>\n",
              "      <td>1.000000</td>\n",
              "      <td>-0.357879</td>\n",
              "      <td>-0.391390</td>\n",
              "    </tr>\n",
              "    <tr>\n",
              "      <th>MRR (mg/min)</th>\n",
              "      <td>0.139284</td>\n",
              "      <td>0.211946</td>\n",
              "      <td>0.287010</td>\n",
              "      <td>-0.357879</td>\n",
              "      <td>1.000000</td>\n",
              "      <td>-0.394803</td>\n",
              "    </tr>\n",
              "    <tr>\n",
              "      <th>SR (µm)</th>\n",
              "      <td>-0.186697</td>\n",
              "      <td>0.196911</td>\n",
              "      <td>0.001442</td>\n",
              "      <td>-0.391390</td>\n",
              "      <td>-0.394803</td>\n",
              "      <td>1.000000</td>\n",
              "    </tr>\n",
              "  </tbody>\n",
              "</table>\n",
              "</div>"
            ],
            "text/plain": [
              "                   No_of_Experiments     Pc(A)  ...  MRR (mg/min)   SR (µm)\n",
              "No_of_Experiments           1.000000  0.048966  ...      0.139284 -0.186697\n",
              "Pc(A)                       0.048966  1.000000  ...      0.211946  0.196911\n",
              "PT(µs)                      0.216612  0.039314  ...      0.287010  0.001442\n",
              "Gv(V)                      -0.208311 -0.174243  ...     -0.357879 -0.391390\n",
              "MRR (mg/min)                0.139284  0.211946  ...      1.000000 -0.394803\n",
              "SR (µm)                    -0.186697  0.196911  ...     -0.394803  1.000000\n",
              "\n",
              "[6 rows x 6 columns]"
            ]
          },
          "metadata": {
            "tags": []
          },
          "execution_count": 7
        }
      ]
    },
    {
      "cell_type": "code",
      "metadata": {
        "colab": {
          "base_uri": "https://localhost:8080/"
        },
        "id": "JxB7TUYovN1B",
        "outputId": "f87c086a-9f70-42dc-8ceb-7bbcd9220a8a"
      },
      "source": [
        "df.isnull().sum()"
      ],
      "execution_count": 8,
      "outputs": [
        {
          "output_type": "execute_result",
          "data": {
            "text/plain": [
              "No_of_Experiments    0\n",
              "Pc(A)                0\n",
              "PT(µs)               0\n",
              "Gv(V)                0\n",
              "Dielectric_Fluids    0\n",
              "MRR (mg/min)         0\n",
              "SR (µm)              0\n",
              "dtype: int64"
            ]
          },
          "metadata": {
            "tags": []
          },
          "execution_count": 8
        }
      ]
    },
    {
      "cell_type": "code",
      "metadata": {
        "colab": {
          "base_uri": "https://localhost:8080/"
        },
        "id": "umj7Cn08vN1C",
        "outputId": "0a66ebd2-f580-42ea-ae4f-d460a90b3894"
      },
      "source": [
        "print(np.unique(df['Dielectric_Fluids']))"
      ],
      "execution_count": 9,
      "outputs": [
        {
          "output_type": "stream",
          "text": [
            "['C-0.5' 'C-1.0' 'C-1.5' 'SD' 'SDF' 'SDFF']\n"
          ],
          "name": "stdout"
        }
      ]
    },
    {
      "cell_type": "code",
      "metadata": {
        "colab": {
          "base_uri": "https://localhost:8080/",
          "height": 1000
        },
        "id": "C10YuwK8vN1D",
        "outputId": "31fd4e44-113e-4e09-f78c-518f7456e5da"
      },
      "source": [
        "sns.pairplot(df)"
      ],
      "execution_count": 10,
      "outputs": [
        {
          "output_type": "execute_result",
          "data": {
            "text/plain": [
              "<seaborn.axisgrid.PairGrid at 0x7f50f43c1c10>"
            ]
          },
          "metadata": {
            "tags": []
          },
          "execution_count": 10
        },
        {
          "output_type": "display_data",
          "data": {
            "image/png": "[encoded data removed]",
            "text/plain": [
              "<Figure size 1080x1080 with 42 Axes>"
            ]
          },
          "metadata": {
            "tags": [],
            "needs_background": "light"
          }
        }
      ]
    },
    {
      "cell_type": "code",
      "metadata": {
        "colab": {
          "base_uri": "https://localhost:8080/",
          "height": 372
        },
        "id": "CycbbpcivN1F",
        "outputId": "ae7b9f38-5b9b-4bd8-8d2c-1a757afea45e"
      },
      "source": [
        "sns.heatmap(df.corr())"
      ],
      "execution_count": 11,
      "outputs": [
        {
          "output_type": "execute_result",
          "data": {
            "text/plain": [
              "<matplotlib.axes._subplots.AxesSubplot at 0x7f50ead00b10>"
            ]
          },
          "metadata": {
            "tags": []
          },
          "execution_count": 11
        },
        {
          "output_type": "display_data",
          "data": {
            "image/png": "[encoded data removed]",
            "text/plain": [
              "<Figure size 432x288 with 2 Axes>"
            ]
          },
          "metadata": {
            "tags": [],
            "needs_background": "light"
          }
        }
      ]
    },
    {
      "cell_type": "code",
      "metadata": {
        "colab": {
          "base_uri": "https://localhost:8080/",
          "height": 352
        },
        "id": "PjL3k545vN1G",
        "outputId": "2d12471a-7323-4dd2-9e34-c239d9b90e1c"
      },
      "source": [
        "sns.scatterplot(x='MRR (mg/min)',y='SR (µm)',data=df)"
      ],
      "execution_count": 57,
      "outputs": [
        {
          "output_type": "execute_result",
          "data": {
            "text/plain": [
              "<matplotlib.axes._subplots.AxesSubplot at 0x7f50dd6fef50>"
            ]
          },
          "metadata": {
            "tags": []
          },
          "execution_count": 57
        },
        {
          "output_type": "display_data",
          "data": {
            "image/png": "[encoded data removed]",
            "text/plain": [
              "<Figure size 360x360 with 1 Axes>"
            ]
          },
          "metadata": {
            "tags": [],
            "needs_background": "light"
          }
        }
      ]
    },
    {
      "cell_type": "markdown",
      "metadata": {
        "id": "nSqNLtmUvN1H"
      },
      "source": [
        "## Encoding categorical data ( Dielectric Fluid ) : using replace value method"
      ]
    },
    {
      "cell_type": "code",
      "metadata": {
        "id": "0tqPMesVvN1H"
      },
      "source": [
        "#replace_map = {'Dielectric_Fluids': {'C-0.5': 1, 'C-1.0': 2, 'C-1.5': 3, 'SD': 4,'SDF': 5, 'SDFF': 6}}\n",
        "dummy_dielec=pd.get_dummies(df['Dielectric_Fluids'],drop_first=True)"
      ],
      "execution_count": 14,
      "outputs": []
    },
    {
      "cell_type": "code",
      "metadata": {
        "id": "B9HZQjBtvN1I"
      },
      "source": [
        "df=pd.concat([df,dummy_dielec],axis=1)"
      ],
      "execution_count": 15,
      "outputs": []
    },
    {
      "cell_type": "code",
      "metadata": {
        "colab": {
          "base_uri": "https://localhost:8080/",
          "height": 197
        },
        "id": "AsQRgavlvN1I",
        "outputId": "3764e78f-de8c-4d17-ebf1-f8ccc14ad117"
      },
      "source": [
        "df.head()"
      ],
      "execution_count": 16,
      "outputs": [
        {
          "output_type": "execute_result",
          "data": {
            "text/html": [
              "<div>\n",
              "<style scoped>\n",
              "    .dataframe tbody tr th:only-of-type {\n",
              "        vertical-align: middle;\n",
              "    }\n",
              "\n",
              "    .dataframe tbody tr th {\n",
              "        vertical-align: top;\n",
              "    }\n",
              "\n",
              "    .dataframe thead th {\n",
              "        text-align: right;\n",
              "    }\n",
              "</style>\n",
              "<table border=\"1\" class=\"dataframe\">\n",
              "  <thead>\n",
              "    <tr style=\"text-align: right;\">\n",
              "      <th></th>\n",
              "      <th>No_of_Experiments</th>\n",
              "      <th>Pc(A)</th>\n",
              "      <th>PT(µs)</th>\n",
              "      <th>Gv(V)</th>\n",
              "      <th>Dielectric_Fluids</th>\n",
              "      <th>MRR (mg/min)</th>\n",
              "      <th>SR (µm)</th>\n",
              "      <th>C-1.0</th>\n",
              "      <th>C-1.5</th>\n",
              "      <th>SD</th>\n",
              "      <th>SDF</th>\n",
              "      <th>SDFF</th>\n",
              "    </tr>\n",
              "  </thead>\n",
              "  <tbody>\n",
              "    <tr>\n",
              "      <th>0</th>\n",
              "      <td>1</td>\n",
              "      <td>5</td>\n",
              "      <td>14</td>\n",
              "      <td>30</td>\n",
              "      <td>SDF</td>\n",
              "      <td>6.80</td>\n",
              "      <td>5.079</td>\n",
              "      <td>0</td>\n",
              "      <td>0</td>\n",
              "      <td>0</td>\n",
              "      <td>1</td>\n",
              "      <td>0</td>\n",
              "    </tr>\n",
              "    <tr>\n",
              "      <th>1</th>\n",
              "      <td>2</td>\n",
              "      <td>2</td>\n",
              "      <td>20</td>\n",
              "      <td>50</td>\n",
              "      <td>C-0.5</td>\n",
              "      <td>10.74</td>\n",
              "      <td>3.873</td>\n",
              "      <td>0</td>\n",
              "      <td>0</td>\n",
              "      <td>0</td>\n",
              "      <td>0</td>\n",
              "      <td>0</td>\n",
              "    </tr>\n",
              "    <tr>\n",
              "      <th>2</th>\n",
              "      <td>3</td>\n",
              "      <td>2</td>\n",
              "      <td>14</td>\n",
              "      <td>10</td>\n",
              "      <td>C-0.5</td>\n",
              "      <td>12.26</td>\n",
              "      <td>3.105</td>\n",
              "      <td>0</td>\n",
              "      <td>0</td>\n",
              "      <td>0</td>\n",
              "      <td>0</td>\n",
              "      <td>0</td>\n",
              "    </tr>\n",
              "    <tr>\n",
              "      <th>3</th>\n",
              "      <td>4</td>\n",
              "      <td>8</td>\n",
              "      <td>14</td>\n",
              "      <td>10</td>\n",
              "      <td>C-1.5</td>\n",
              "      <td>7.50</td>\n",
              "      <td>4.810</td>\n",
              "      <td>0</td>\n",
              "      <td>1</td>\n",
              "      <td>0</td>\n",
              "      <td>0</td>\n",
              "      <td>0</td>\n",
              "    </tr>\n",
              "    <tr>\n",
              "      <th>4</th>\n",
              "      <td>5</td>\n",
              "      <td>8</td>\n",
              "      <td>8</td>\n",
              "      <td>50</td>\n",
              "      <td>SDF</td>\n",
              "      <td>4.59</td>\n",
              "      <td>4.130</td>\n",
              "      <td>0</td>\n",
              "      <td>0</td>\n",
              "      <td>0</td>\n",
              "      <td>1</td>\n",
              "      <td>0</td>\n",
              "    </tr>\n",
              "  </tbody>\n",
              "</table>\n",
              "</div>"
            ],
            "text/plain": [
              "   No_of_Experiments  Pc(A)  PT(µs)  Gv(V)  ... C-1.5  SD  SDF  SDFF\n",
              "0                  1      5      14     30  ...     0   0    1     0\n",
              "1                  2      2      20     50  ...     0   0    0     0\n",
              "2                  3      2      14     10  ...     0   0    0     0\n",
              "3                  4      8      14     10  ...     1   0    0     0\n",
              "4                  5      8       8     50  ...     0   0    1     0\n",
              "\n",
              "[5 rows x 12 columns]"
            ]
          },
          "metadata": {
            "tags": []
          },
          "execution_count": 16
        }
      ]
    },
    {
      "cell_type": "code",
      "metadata": {
        "colab": {
          "base_uri": "https://localhost:8080/",
          "height": 107
        },
        "id": "ooJN7eHMvN1I",
        "outputId": "648f870c-3d42-489b-dffc-42b050afa4a7"
      },
      "source": [
        "df = df.drop(['Dielectric_Fluids'], axis = 1)\n",
        "df.head(2)"
      ],
      "execution_count": 17,
      "outputs": [
        {
          "output_type": "execute_result",
          "data": {
            "text/html": [
              "<div>\n",
              "<style scoped>\n",
              "    .dataframe tbody tr th:only-of-type {\n",
              "        vertical-align: middle;\n",
              "    }\n",
              "\n",
              "    .dataframe tbody tr th {\n",
              "        vertical-align: top;\n",
              "    }\n",
              "\n",
              "    .dataframe thead th {\n",
              "        text-align: right;\n",
              "    }\n",
              "</style>\n",
              "<table border=\"1\" class=\"dataframe\">\n",
              "  <thead>\n",
              "    <tr style=\"text-align: right;\">\n",
              "      <th></th>\n",
              "      <th>No_of_Experiments</th>\n",
              "      <th>Pc(A)</th>\n",
              "      <th>PT(µs)</th>\n",
              "      <th>Gv(V)</th>\n",
              "      <th>MRR (mg/min)</th>\n",
              "      <th>SR (µm)</th>\n",
              "      <th>C-1.0</th>\n",
              "      <th>C-1.5</th>\n",
              "      <th>SD</th>\n",
              "      <th>SDF</th>\n",
              "      <th>SDFF</th>\n",
              "    </tr>\n",
              "  </thead>\n",
              "  <tbody>\n",
              "    <tr>\n",
              "      <th>0</th>\n",
              "      <td>1</td>\n",
              "      <td>5</td>\n",
              "      <td>14</td>\n",
              "      <td>30</td>\n",
              "      <td>6.80</td>\n",
              "      <td>5.079</td>\n",
              "      <td>0</td>\n",
              "      <td>0</td>\n",
              "      <td>0</td>\n",
              "      <td>1</td>\n",
              "      <td>0</td>\n",
              "    </tr>\n",
              "    <tr>\n",
              "      <th>1</th>\n",
              "      <td>2</td>\n",
              "      <td>2</td>\n",
              "      <td>20</td>\n",
              "      <td>50</td>\n",
              "      <td>10.74</td>\n",
              "      <td>3.873</td>\n",
              "      <td>0</td>\n",
              "      <td>0</td>\n",
              "      <td>0</td>\n",
              "      <td>0</td>\n",
              "      <td>0</td>\n",
              "    </tr>\n",
              "  </tbody>\n",
              "</table>\n",
              "</div>"
            ],
            "text/plain": [
              "   No_of_Experiments  Pc(A)  PT(µs)  Gv(V)  ...  C-1.5  SD  SDF  SDFF\n",
              "0                  1      5      14     30  ...      0   0    1     0\n",
              "1                  2      2      20     50  ...      0   0    0     0\n",
              "\n",
              "[2 rows x 11 columns]"
            ]
          },
          "metadata": {
            "tags": []
          },
          "execution_count": 17
        }
      ]
    },
    {
      "cell_type": "code",
      "metadata": {
        "id": "5i7wUBlHvN1J"
      },
      "source": [
        "#labels = df['Dielectric_Fluids'].astype('category').cat.categories.tolist()\n",
        "#replace_map_comp = {'Dielectric_Fluids' : {k: v for k,v in zip(labels,list(range(1,len(labels)+1)))}}"
      ],
      "execution_count": null,
      "outputs": []
    },
    {
      "cell_type": "code",
      "metadata": {
        "id": "AAo9QScvvN1J"
      },
      "source": [
        "#dff=df.copy()"
      ],
      "execution_count": null,
      "outputs": []
    },
    {
      "cell_type": "code",
      "metadata": {
        "id": "N7rDtGV6vN1K"
      },
      "source": [
        "#dff.replace(replace_map_comp, inplace=True)\n",
        "#print(dff.head())"
      ],
      "execution_count": null,
      "outputs": []
    },
    {
      "cell_type": "code",
      "metadata": {
        "colab": {
          "base_uri": "https://localhost:8080/"
        },
        "id": "EwaHH5sevN1K",
        "outputId": "26542507-f311-47f7-ef89-82f1b5795931"
      },
      "source": [
        "df.dtypes"
      ],
      "execution_count": 18,
      "outputs": [
        {
          "output_type": "execute_result",
          "data": {
            "text/plain": [
              "No_of_Experiments      int64\n",
              "Pc(A)                  int64\n",
              "PT(µs)                 int64\n",
              "Gv(V)                  int64\n",
              "MRR (mg/min)         float64\n",
              "SR (µm)              float64\n",
              "C-1.0                  uint8\n",
              "C-1.5                  uint8\n",
              "SD                     uint8\n",
              "SDF                    uint8\n",
              "SDFF                   uint8\n",
              "dtype: object"
            ]
          },
          "metadata": {
            "tags": []
          },
          "execution_count": 18
        }
      ]
    },
    {
      "cell_type": "code",
      "metadata": {
        "colab": {
          "base_uri": "https://localhost:8080/",
          "height": 352
        },
        "id": "5qIgOAkcvN1L",
        "outputId": "c3289892-dac7-498a-e7ed-7abf46f41533"
      },
      "source": [
        "sns.distplot(df['Pc(A)'])\n",
        "df['Pc(A)'].skew()"
      ],
      "execution_count": 19,
      "outputs": [
        {
          "output_type": "stream",
          "text": [
            "/usr/local/lib/python3.7/dist-packages/seaborn/distributions.py:2557: FutureWarning: `distplot` is a deprecated function and will be removed in a future version. Please adapt your code to use either `displot` (a figure-level function with similar flexibility) or `histplot` (an axes-level function for histograms).\n",
            "  warnings.warn(msg, FutureWarning)\n"
          ],
          "name": "stderr"
        },
        {
          "output_type": "execute_result",
          "data": {
            "text/plain": [
              "-0.3004685820375281"
            ]
          },
          "metadata": {
            "tags": []
          },
          "execution_count": 19
        },
        {
          "output_type": "display_data",
          "data": {
            "image/png": "[encoded data removed]",
            "text/plain": [
              "<Figure size 432x288 with 1 Axes>"
            ]
          },
          "metadata": {
            "tags": [],
            "needs_background": "light"
          }
        }
      ]
    },
    {
      "cell_type": "code",
      "metadata": {
        "id": "tj1lJtuKvN1L",
        "outputId": "e0e68ac7-18d7-4d22-9376-5d7fb9d8a323"
      },
      "source": [
        "sns.distplot(df['PT(µs)'])\n",
        "df['PT(µs)'].skew()"
      ],
      "execution_count": null,
      "outputs": [
        {
          "output_type": "execute_result",
          "data": {
            "text/plain": [
              "-0.46660787401551473"
            ]
          },
          "metadata": {
            "tags": []
          },
          "execution_count": 21
        },
        {
          "output_type": "display_data",
          "data": {
            "image/png": "[encoded data removed]",
            "text/plain": [
              "<Figure size 432x288 with 1 Axes>"
            ]
          },
          "metadata": {
            "tags": [],
            "needs_background": "light"
          }
        }
      ]
    },
    {
      "cell_type": "code",
      "metadata": {
        "id": "sDdf6vwvvN1M",
        "outputId": "083e2100-3ad4-4516-f96d-08e1ad863680"
      },
      "source": [
        "sns.distplot(df['Gv(V)'])\n",
        "df['Gv(V)'].skew()"
      ],
      "execution_count": null,
      "outputs": [
        {
          "output_type": "execute_result",
          "data": {
            "text/plain": [
              "-0.106826690332802"
            ]
          },
          "metadata": {
            "tags": []
          },
          "execution_count": 22
        },
        {
          "output_type": "display_data",
          "data": {
            "image/png": "[encoded data removed]",
            "text/plain": [
              "<Figure size 432x288 with 1 Axes>"
            ]
          },
          "metadata": {
            "tags": [],
            "needs_background": "light"
          }
        }
      ]
    },
    {
      "cell_type": "code",
      "metadata": {
        "id": "yelAEJqIvN1M",
        "outputId": "e19a3fe1-d603-40fc-93ca-a67c83196eec"
      },
      "source": [
        "sns.distplot(df['MRR (mg/min)'])\n",
        "df['MRR (mg/min)'].skew()"
      ],
      "execution_count": null,
      "outputs": [
        {
          "output_type": "execute_result",
          "data": {
            "text/plain": [
              "2.73595113636345"
            ]
          },
          "metadata": {
            "tags": []
          },
          "execution_count": 23
        },
        {
          "output_type": "display_data",
          "data": {
            "image/png": "[encoded data removed]",
            "text/plain": [
              "<Figure size 432x288 with 1 Axes>"
            ]
          },
          "metadata": {
            "tags": [],
            "needs_background": "light"
          }
        }
      ]
    },
    {
      "cell_type": "code",
      "metadata": {
        "id": "lB_T9LPAvN1N",
        "outputId": "7c2f8d81-4a73-4f5f-e7cb-0678c1e594ae"
      },
      "source": [
        "sns.distplot(df['SR (µm)'])\n",
        "df['SR (µm)'].skew()"
      ],
      "execution_count": null,
      "outputs": [
        {
          "output_type": "execute_result",
          "data": {
            "text/plain": [
              "0.5652211461840229"
            ]
          },
          "metadata": {
            "tags": []
          },
          "execution_count": 24
        },
        {
          "output_type": "display_data",
          "data": {
            "image/png": "[encoded data removed]",
            "text/plain": [
              "<Figure size 432x288 with 1 Axes>"
            ]
          },
          "metadata": {
            "tags": [],
            "needs_background": "light"
          }
        }
      ]
    },
    {
      "cell_type": "markdown",
      "metadata": {
        "id": "XqCeUIHMvN1N"
      },
      "source": [
        "# Applying tranformation to remove skewness:"
      ]
    },
    {
      "cell_type": "code",
      "metadata": {
        "id": "Ju6U1E4fvN1N"
      },
      "source": [
        "df['MRR (mg/min)']=np.log10(df['MRR (mg/min)'])"
      ],
      "execution_count": 20,
      "outputs": []
    },
    {
      "cell_type": "code",
      "metadata": {
        "colab": {
          "base_uri": "https://localhost:8080/",
          "height": 352
        },
        "id": "bv10rtvgvN1O",
        "outputId": "3208a4ee-fbaa-435f-926d-19e0d7523e26"
      },
      "source": [
        "sns.distplot(df['MRR (mg/min)'])\n",
        "df['MRR (mg/min)'].skew()"
      ],
      "execution_count": 21,
      "outputs": [
        {
          "output_type": "stream",
          "text": [
            "/usr/local/lib/python3.7/dist-packages/seaborn/distributions.py:2557: FutureWarning: `distplot` is a deprecated function and will be removed in a future version. Please adapt your code to use either `displot` (a figure-level function with similar flexibility) or `histplot` (an axes-level function for histograms).\n",
            "  warnings.warn(msg, FutureWarning)\n"
          ],
          "name": "stderr"
        },
        {
          "output_type": "execute_result",
          "data": {
            "text/plain": [
              "0.7077719539040359"
            ]
          },
          "metadata": {
            "tags": []
          },
          "execution_count": 21
        },
        {
          "output_type": "display_data",
          "data": {
            "image/png": "[encoded data removed]",
            "text/plain": [
              "<Figure size 432x288 with 1 Axes>"
            ]
          },
          "metadata": {
            "tags": [],
            "needs_background": "light"
          }
        }
      ]
    },
    {
      "cell_type": "code",
      "metadata": {
        "colab": {
          "base_uri": "https://localhost:8080/",
          "height": 353
        },
        "id": "xPUJZhXIvN1O",
        "outputId": "f3949d90-741b-4534-be6b-80eec26c9920"
      },
      "source": [
        "from sklearn.preprocessing import PowerTransformer\n",
        "\n",
        "pt=PowerTransformer()\n",
        "df[\"updated_MRR (mg/min)\"]=pt.fit_transform(df[['MRR (mg/min)']])\n",
        "sns.distplot(df['updated_MRR (mg/min)'])"
      ],
      "execution_count": 22,
      "outputs": [
        {
          "output_type": "stream",
          "text": [
            "/usr/local/lib/python3.7/dist-packages/seaborn/distributions.py:2557: FutureWarning: `distplot` is a deprecated function and will be removed in a future version. Please adapt your code to use either `displot` (a figure-level function with similar flexibility) or `histplot` (an axes-level function for histograms).\n",
            "  warnings.warn(msg, FutureWarning)\n"
          ],
          "name": "stderr"
        },
        {
          "output_type": "execute_result",
          "data": {
            "text/plain": [
              "<matplotlib.axes._subplots.AxesSubplot at 0x7f50e6f971d0>"
            ]
          },
          "metadata": {
            "tags": []
          },
          "execution_count": 22
        },
        {
          "output_type": "display_data",
          "data": {
            "image/png": "[encoded data removed]",
            "text/plain": [
              "<Figure size 432x288 with 1 Axes>"
            ]
          },
          "metadata": {
            "tags": [],
            "needs_background": "light"
          }
        }
      ]
    },
    {
      "cell_type": "code",
      "metadata": {
        "colab": {
          "base_uri": "https://localhost:8080/",
          "height": 107
        },
        "id": "CarHnSVbvN1P",
        "outputId": "06e326c2-6f35-4631-d500-1618daf4fb61"
      },
      "source": [
        "df.head(2)"
      ],
      "execution_count": 60,
      "outputs": [
        {
          "output_type": "execute_result",
          "data": {
            "text/html": [
              "<div>\n",
              "<style scoped>\n",
              "    .dataframe tbody tr th:only-of-type {\n",
              "        vertical-align: middle;\n",
              "    }\n",
              "\n",
              "    .dataframe tbody tr th {\n",
              "        vertical-align: top;\n",
              "    }\n",
              "\n",
              "    .dataframe thead th {\n",
              "        text-align: right;\n",
              "    }\n",
              "</style>\n",
              "<table border=\"1\" class=\"dataframe\">\n",
              "  <thead>\n",
              "    <tr style=\"text-align: right;\">\n",
              "      <th></th>\n",
              "      <th>No_of_Experiments</th>\n",
              "      <th>Pc(A)</th>\n",
              "      <th>PT(µs)</th>\n",
              "      <th>Gv(V)</th>\n",
              "      <th>MRR (mg/min)</th>\n",
              "      <th>SR (µm)</th>\n",
              "      <th>C-1.0</th>\n",
              "      <th>C-1.5</th>\n",
              "      <th>SD</th>\n",
              "      <th>SDF</th>\n",
              "      <th>SDFF</th>\n",
              "      <th>updated_MRR (mg/min)</th>\n",
              "    </tr>\n",
              "  </thead>\n",
              "  <tbody>\n",
              "    <tr>\n",
              "      <th>0</th>\n",
              "      <td>1</td>\n",
              "      <td>5</td>\n",
              "      <td>14</td>\n",
              "      <td>30</td>\n",
              "      <td>0.832509</td>\n",
              "      <td>5.079</td>\n",
              "      <td>0</td>\n",
              "      <td>0</td>\n",
              "      <td>0</td>\n",
              "      <td>1</td>\n",
              "      <td>0</td>\n",
              "      <td>-0.155755</td>\n",
              "    </tr>\n",
              "    <tr>\n",
              "      <th>1</th>\n",
              "      <td>2</td>\n",
              "      <td>2</td>\n",
              "      <td>20</td>\n",
              "      <td>50</td>\n",
              "      <td>1.031004</td>\n",
              "      <td>3.873</td>\n",
              "      <td>0</td>\n",
              "      <td>0</td>\n",
              "      <td>0</td>\n",
              "      <td>0</td>\n",
              "      <td>0</td>\n",
              "      <td>0.739253</td>\n",
              "    </tr>\n",
              "  </tbody>\n",
              "</table>\n",
              "</div>"
            ],
            "text/plain": [
              "   No_of_Experiments  Pc(A)  PT(µs)  Gv(V)  ...  SD  SDF  SDFF  updated_MRR (mg/min)\n",
              "0                  1      5      14     30  ...   0    1     0             -0.155755\n",
              "1                  2      2      20     50  ...   0    0     0              0.739253\n",
              "\n",
              "[2 rows x 12 columns]"
            ]
          },
          "metadata": {
            "tags": []
          },
          "execution_count": 60
        }
      ]
    },
    {
      "cell_type": "markdown",
      "metadata": {
        "id": "kCqxSYRuvN1Q"
      },
      "source": [
        "## Finding correlation between some of the input variables and output variable:"
      ]
    },
    {
      "cell_type": "code",
      "metadata": {
        "colab": {
          "base_uri": "https://localhost:8080/"
        },
        "id": "Ixlir6wPvN1Q",
        "outputId": "5f42dcec-2c38-4836-875e-4857e4ed7763"
      },
      "source": [
        "print(df['Pc(A)'].corr(df['updated_MRR (mg/min)']))\n",
        "print(df['PT(µs)'].corr(df['updated_MRR (mg/min)']))\n",
        "print(df['Gv(V)'].corr(df['updated_MRR (mg/min)']))\n",
        "print(df['SR (µm)'].corr(df['updated_MRR (mg/min)']))\n",
        "#print(df['Dielectric_Fluids'].corr(df['updated_MRR (mg/min)']))\n",
        "\n",
        "\n",
        "#observation:\n",
        "#correlation value can range from -1 to +1. if its negative value , we can conclude it is negetive value correlation and \n",
        "#if it is positive value we can conclude it has positive correlation.\n",
        "#Also, values which are near to -1  and +1 is strongly correlated"
      ],
      "execution_count": 61,
      "outputs": [
        {
          "output_type": "stream",
          "text": [
            "0.22418189624059404\n",
            "0.24962907330817766\n",
            "-0.46236969298915237\n",
            "-0.1435336783998832\n"
          ],
          "name": "stdout"
        }
      ]
    },
    {
      "cell_type": "markdown",
      "metadata": {
        "id": "wP6GF3yLvN1Q"
      },
      "source": [
        "# Outlier Checking :"
      ]
    },
    {
      "cell_type": "code",
      "metadata": {
        "id": "ZQTgJzOIvN1R",
        "outputId": "37700b38-4f1b-405a-8a84-20dba261a179"
      },
      "source": [
        "import matplotlib.pyplot as mpl\n",
        "mpl.figure(figsize=(15,10))\n",
        "df[\"Pc(A)\"].plot(kind='box')\n",
        "mpl.show()\n"
      ],
      "execution_count": null,
      "outputs": [
        {
          "output_type": "display_data",
          "data": {
            "image/png": "[encoded data removed]",
            "text/plain": [
              "<Figure size 1080x720 with 1 Axes>"
            ]
          },
          "metadata": {
            "tags": [],
            "needs_background": "light"
          }
        }
      ]
    },
    {
      "cell_type": "code",
      "metadata": {
        "id": "U2d9o2UXvN1R",
        "outputId": "94a9e47f-f3dd-4493-8b5a-aa6a694bde41"
      },
      "source": [
        "import matplotlib.pyplot as mpl\n",
        "mpl.figure(figsize=(15,10))\n",
        "df[\"PT(µs)\"].plot(kind='box')\n",
        "mpl.show()\n"
      ],
      "execution_count": null,
      "outputs": [
        {
          "output_type": "display_data",
          "data": {
            "image/png": "[encoded data removed]",
            "text/plain": [
              "<Figure size 1080x720 with 1 Axes>"
            ]
          },
          "metadata": {
            "tags": [],
            "needs_background": "light"
          }
        }
      ]
    },
    {
      "cell_type": "code",
      "metadata": {
        "id": "PfqxYJfYvN1S",
        "outputId": "013d17c1-948d-4e38-9558-6225aa77e390"
      },
      "source": [
        "import matplotlib.pyplot as mpl\n",
        "mpl.figure(figsize=(15,10))\n",
        "df[\"Gv(V)\"].plot(kind='box')\n",
        "mpl.show()"
      ],
      "execution_count": null,
      "outputs": [
        {
          "output_type": "display_data",
          "data": {
            "image/png": "[encoded data removed]",
            "text/plain": [
              "<Figure size 1080x720 with 1 Axes>"
            ]
          },
          "metadata": {
            "tags": [],
            "needs_background": "light"
          }
        }
      ]
    },
    {
      "cell_type": "code",
      "metadata": {
        "id": "rXr9mQeAvN1S",
        "outputId": "31e57afa-420b-4d7f-f8d3-893fcfda3c5f"
      },
      "source": [
        "import matplotlib.pyplot as mpl\n",
        "mpl.figure(figsize=(15,10))\n",
        "df[\"updated_MRR (mg/min)\"].plot(kind='box')\n",
        "mpl.show()"
      ],
      "execution_count": null,
      "outputs": [
        {
          "output_type": "display_data",
          "data": {
            "image/png": "[encoded data removed]",
            "text/plain": [
              "<Figure size 1080x720 with 1 Axes>"
            ]
          },
          "metadata": {
            "tags": [],
            "needs_background": "light"
          }
        }
      ]
    },
    {
      "cell_type": "code",
      "metadata": {
        "id": "WZ-317KbvN1S",
        "outputId": "dc5c01c6-3e4b-4197-c4b2-ea4b2f017106"
      },
      "source": [
        "import matplotlib.pyplot as mpl\n",
        "mpl.figure(figsize=(15,10))\n",
        "df[\"SR (µm)\"].plot(kind='box')\n",
        "mpl.show()"
      ],
      "execution_count": null,
      "outputs": [
        {
          "output_type": "display_data",
          "data": {
            "image/png": "[encoded data removed]",
            "text/plain": [
              "<Figure size 1080x720 with 1 Axes>"
            ]
          },
          "metadata": {
            "tags": [],
            "needs_background": "light"
          }
        }
      ]
    },
    {
      "cell_type": "markdown",
      "metadata": {
        "id": "4TAvAW_BvN1T"
      },
      "source": [
        "# Test Train Split :"
      ]
    },
    {
      "cell_type": "code",
      "metadata": {
        "id": "JEfiOZhCvN1T",
        "outputId": "9acef1c1-521c-4c4c-e70a-b883fbd0c1c6"
      },
      "source": [
        "df.head()"
      ],
      "execution_count": null,
      "outputs": [
        {
          "output_type": "execute_result",
          "data": {
            "text/html": [
              "<div>\n",
              "<style scoped>\n",
              "    .dataframe tbody tr th:only-of-type {\n",
              "        vertical-align: middle;\n",
              "    }\n",
              "\n",
              "    .dataframe tbody tr th {\n",
              "        vertical-align: top;\n",
              "    }\n",
              "\n",
              "    .dataframe thead th {\n",
              "        text-align: right;\n",
              "    }\n",
              "</style>\n",
              "<table border=\"1\" class=\"dataframe\">\n",
              "  <thead>\n",
              "    <tr style=\"text-align: right;\">\n",
              "      <th></th>\n",
              "      <th>No_of_Experiments</th>\n",
              "      <th>Pc(A)</th>\n",
              "      <th>PT(µs)</th>\n",
              "      <th>Gv(V)</th>\n",
              "      <th>MRR (mg/min)</th>\n",
              "      <th>SR (µm)</th>\n",
              "      <th>C-1.0</th>\n",
              "      <th>C-1.5</th>\n",
              "      <th>SD</th>\n",
              "      <th>SDF</th>\n",
              "      <th>SDFF</th>\n",
              "      <th>updated_MRR (mg/min)</th>\n",
              "    </tr>\n",
              "  </thead>\n",
              "  <tbody>\n",
              "    <tr>\n",
              "      <th>0</th>\n",
              "      <td>1</td>\n",
              "      <td>5</td>\n",
              "      <td>14</td>\n",
              "      <td>30</td>\n",
              "      <td>0.832509</td>\n",
              "      <td>5.079</td>\n",
              "      <td>0</td>\n",
              "      <td>0</td>\n",
              "      <td>0</td>\n",
              "      <td>1</td>\n",
              "      <td>0</td>\n",
              "      <td>-0.155755</td>\n",
              "    </tr>\n",
              "    <tr>\n",
              "      <th>1</th>\n",
              "      <td>2</td>\n",
              "      <td>2</td>\n",
              "      <td>20</td>\n",
              "      <td>50</td>\n",
              "      <td>1.031004</td>\n",
              "      <td>3.873</td>\n",
              "      <td>0</td>\n",
              "      <td>0</td>\n",
              "      <td>0</td>\n",
              "      <td>0</td>\n",
              "      <td>0</td>\n",
              "      <td>0.739253</td>\n",
              "    </tr>\n",
              "    <tr>\n",
              "      <th>2</th>\n",
              "      <td>3</td>\n",
              "      <td>2</td>\n",
              "      <td>14</td>\n",
              "      <td>10</td>\n",
              "      <td>1.088490</td>\n",
              "      <td>3.105</td>\n",
              "      <td>0</td>\n",
              "      <td>0</td>\n",
              "      <td>0</td>\n",
              "      <td>0</td>\n",
              "      <td>0</td>\n",
              "      <td>0.964374</td>\n",
              "    </tr>\n",
              "    <tr>\n",
              "      <th>3</th>\n",
              "      <td>4</td>\n",
              "      <td>8</td>\n",
              "      <td>14</td>\n",
              "      <td>10</td>\n",
              "      <td>0.875061</td>\n",
              "      <td>4.810</td>\n",
              "      <td>0</td>\n",
              "      <td>1</td>\n",
              "      <td>0</td>\n",
              "      <td>0</td>\n",
              "      <td>0</td>\n",
              "      <td>0.053324</td>\n",
              "    </tr>\n",
              "    <tr>\n",
              "      <th>4</th>\n",
              "      <td>5</td>\n",
              "      <td>8</td>\n",
              "      <td>8</td>\n",
              "      <td>50</td>\n",
              "      <td>0.661813</td>\n",
              "      <td>4.130</td>\n",
              "      <td>0</td>\n",
              "      <td>0</td>\n",
              "      <td>0</td>\n",
              "      <td>1</td>\n",
              "      <td>0</td>\n",
              "      <td>-1.111058</td>\n",
              "    </tr>\n",
              "  </tbody>\n",
              "</table>\n",
              "</div>"
            ],
            "text/plain": [
              "   No_of_Experiments  Pc(A)  PT(µs)  Gv(V)  MRR (mg/min)  SR (µm)  C-1.0  \\\n",
              "0                  1      5      14     30      0.832509    5.079      0   \n",
              "1                  2      2      20     50      1.031004    3.873      0   \n",
              "2                  3      2      14     10      1.088490    3.105      0   \n",
              "3                  4      8      14     10      0.875061    4.810      0   \n",
              "4                  5      8       8     50      0.661813    4.130      0   \n",
              "\n",
              "   C-1.5  SD  SDF  SDFF  updated_MRR (mg/min)  \n",
              "0      0   0    1     0             -0.155755  \n",
              "1      0   0    0     0              0.739253  \n",
              "2      0   0    0     0              0.964374  \n",
              "3      1   0    0     0              0.053324  \n",
              "4      0   0    1     0             -1.111058  "
            ]
          },
          "metadata": {
            "tags": []
          },
          "execution_count": 35
        }
      ]
    },
    {
      "cell_type": "code",
      "metadata": {
        "id": "yEHFE4P5vN1U"
      },
      "source": [
        "X = df[['Pc(A)', 'PT(µs)', 'Gv(V)','C-1.0', 'C-1.5', 'SD', 'SDF', 'SDFF',]]\n",
        "y = df['updated_MRR (mg/min)']\n",
        "\n"
      ],
      "execution_count": 62,
      "outputs": []
    },
    {
      "cell_type": "code",
      "metadata": {
        "id": "d3bwxA4IvN1U"
      },
      "source": [
        "from sklearn.model_selection import train_test_split\n",
        "X_train, X_test, Y_train, Y_test = train_test_split( X, y, test_size=0.3, random_state=0)"
      ],
      "execution_count": 63,
      "outputs": []
    },
    {
      "cell_type": "markdown",
      "metadata": {
        "id": "vf8UU0i1CjDj"
      },
      "source": [
        "# XGBOOST REGRESSION"
      ]
    },
    {
      "cell_type": "code",
      "metadata": {
        "id": "gGXeH0rhJ-Hn"
      },
      "source": [
        "import xgboost as xg"
      ],
      "execution_count": 64,
      "outputs": []
    },
    {
      "cell_type": "code",
      "metadata": {
        "id": "cAmH7cOPJxrN"
      },
      "source": [
        "xg_reg = xg.XGBRegressor(objective ='reg:linear', colsample_bytree = 0.3, learning_rate = 0.1,max_depth = 5, alpha = 10, n_estimators = 10)"
      ],
      "execution_count": 65,
      "outputs": []
    },
    {
      "cell_type": "code",
      "metadata": {
        "colab": {
          "base_uri": "https://localhost:8080/"
        },
        "id": "ojdTcUYXDIfx",
        "outputId": "620a3c03-6aaa-4fa9-8a82-df81007727d9"
      },
      "source": [
        "xg_reg.fit(X_train,Y_train)"
      ],
      "execution_count": 66,
      "outputs": [
        {
          "output_type": "stream",
          "text": [
            "[15:53:09] WARNING: /workspace/src/objective/regression_obj.cu:152: reg:linear is now deprecated in favor of reg:squarederror.\n"
          ],
          "name": "stdout"
        },
        {
          "output_type": "execute_result",
          "data": {
            "text/plain": [
              "XGBRegressor(alpha=10, base_score=0.5, booster='gbtree', colsample_bylevel=1,\n",
              "             colsample_bynode=1, colsample_bytree=0.3, gamma=0,\n",
              "             importance_type='gain', learning_rate=0.1, max_delta_step=0,\n",
              "             max_depth=5, min_child_weight=1, missing=None, n_estimators=10,\n",
              "             n_jobs=1, nthread=None, objective='reg:linear', random_state=0,\n",
              "             reg_alpha=0, reg_lambda=1, scale_pos_weight=1, seed=None,\n",
              "             silent=None, subsample=1, verbosity=1)"
            ]
          },
          "metadata": {
            "tags": []
          },
          "execution_count": 66
        }
      ]
    },
    {
      "cell_type": "code",
      "metadata": {
        "id": "mPhKtLV9DUXV"
      },
      "source": [
        "pred = xg_reg.predict(X_test)"
      ],
      "execution_count": 67,
      "outputs": []
    },
    {
      "cell_type": "code",
      "metadata": {
        "colab": {
          "base_uri": "https://localhost:8080/"
        },
        "id": "cCEq58o2DcWZ",
        "outputId": "422aeb68-14a9-48c1-cf38-3509cc8f90c0"
      },
      "source": [
        "from sklearn.metrics import mean_squared_error as mse\n",
        "rmse = np.sqrt(mse(Y_test, pred))\n",
        "print(\"RMSE: %f\" % (rmse))"
      ],
      "execution_count": 68,
      "outputs": [
        {
          "output_type": "stream",
          "text": [
            "RMSE: 0.922530\n"
          ],
          "name": "stdout"
        }
      ]
    },
    {
      "cell_type": "code",
      "metadata": {
        "colab": {
          "base_uri": "https://localhost:8080/"
        },
        "id": "8XFKzUbdLGcz",
        "outputId": "29126abd-1db2-47e0-c3cd-c533b8da2726"
      },
      "source": [
        "xg_reg = xg.train(params=params, dtrain=data_dmatrix, num_boost_round=10)"
      ],
      "execution_count": 72,
      "outputs": [
        {
          "output_type": "stream",
          "text": [
            "[15:55:24] WARNING: /workspace/src/objective/regression_obj.cu:152: reg:linear is now deprecated in favor of reg:squarederror.\n"
          ],
          "name": "stdout"
        }
      ]
    },
    {
      "cell_type": "code",
      "metadata": {
        "colab": {
          "base_uri": "https://localhost:8080/",
          "height": 97
        },
        "id": "pu07eYJZLJJO",
        "outputId": "8e87d268-bcba-46c4-b5b0-5b388476b921"
      },
      "source": [
        "import matplotlib.pyplot as plt\n",
        "\n",
        "xg.plot_tree(xg_reg,num_trees=0)\n",
        "plt.rcParams['figure.figsize'] = [50, 10]\n",
        "plt.show()"
      ],
      "execution_count": 74,
      "outputs": [
        {
          "output_type": "display_data",
          "data": {
            "image/png": "[encoded data removed]",
            "text/plain": [
              "<Figure size 360x360 with 1 Axes>"
            ]
          },
          "metadata": {
            "tags": [],
            "needs_background": "light"
          }
        }
      ]
    },
    {
      "cell_type": "code",
      "metadata": {
        "colab": {
          "base_uri": "https://localhost:8080/",
          "height": 367
        },
        "id": "sZjNsBoRhJg3",
        "outputId": "d5e154a4-4e44-45d8-f6ba-7d4dab25e68a"
      },
      "source": [
        "xg.plot_importance(xg_reg)"
      ],
      "execution_count": 78,
      "outputs": [
        {
          "output_type": "execute_result",
          "data": {
            "text/plain": [
              "<matplotlib.axes._subplots.AxesSubplot at 0x7f50d915fd90>"
            ]
          },
          "metadata": {
            "tags": []
          },
          "execution_count": 78
        },
        {
          "output_type": "display_data",
          "data": {
            "image/png": "[encoded data removed]",
            "text/plain": [
              "<Figure size 360x360 with 1 Axes>"
            ]
          },
          "metadata": {
            "tags": [],
            "needs_background": "light"
          }
        }
      ]
    },
    {
      "cell_type": "code",
      "metadata": {
        "colab": {
          "base_uri": "https://localhost:8080/",
          "height": 145
        },
        "id": "U0sVPLLwLVTg",
        "outputId": "87f64f06-e987-45ff-dc20-232a8bd3c3b7"
      },
      "source": [
        "xg.plot_importance(xg_reg)\n",
        "plt.rcParams['figure.figsize'] = [5, 5]\n",
        "plt.show()"
      ],
      "execution_count": 76,
      "outputs": [
        {
          "output_type": "display_data",
          "data": {
            "image/png": "[encoded data removed]",
            "text/plain": [
              "<Figure size 3600x720 with 1 Axes>"
            ]
          },
          "metadata": {
            "tags": [],
            "needs_background": "light"
          }
        }
      ]
    },
    {
      "cell_type": "code",
      "metadata": {
        "id": "dVXZx_CPLfCO"
      },
      "source": [
        ""
      ],
      "execution_count": null,
      "outputs": []
    },
    {
      "cell_type": "markdown",
      "metadata": {
        "id": "MCMt6xsXvN1U"
      },
      "source": [
        "## Regression algorithm ( multiple linear ):"
      ]
    },
    {
      "cell_type": "code",
      "metadata": {
        "id": "JKT_kf1MvN1V",
        "outputId": "9477868d-5a48-47dd-959c-c066df03bc0e"
      },
      "source": [
        "from sklearn.linear_model import LinearRegression\n",
        "regressor = LinearRegression()\n",
        "regressor.fit(X_train,Y_train)"
      ],
      "execution_count": null,
      "outputs": [
        {
          "output_type": "execute_result",
          "data": {
            "text/plain": [
              "LinearRegression(copy_X=True, fit_intercept=True, n_jobs=None, normalize=False)"
            ]
          },
          "metadata": {
            "tags": []
          },
          "execution_count": 38
        }
      ]
    },
    {
      "cell_type": "code",
      "metadata": {
        "id": "garoFV6EvN1V"
      },
      "source": [
        "y_pred= regressor.predict(X_test)"
      ],
      "execution_count": null,
      "outputs": []
    },
    {
      "cell_type": "code",
      "metadata": {
        "id": "BzFn-bs7vN1V",
        "outputId": "2121b7c9-6ffa-4a17-9b3f-7710ea5bdab1"
      },
      "source": [
        "regressor.intercept_"
      ],
      "execution_count": null,
      "outputs": [
        {
          "output_type": "execute_result",
          "data": {
            "text/plain": [
              "0.3761492554871633"
            ]
          },
          "metadata": {
            "tags": []
          },
          "execution_count": 40
        }
      ]
    },
    {
      "cell_type": "code",
      "metadata": {
        "id": "TOfuIM95vN1W",
        "outputId": "df4e9212-21b2-4dfb-8ace-5e1a24e25031"
      },
      "source": [
        "regressor.coef_"
      ],
      "execution_count": null,
      "outputs": [
        {
          "output_type": "execute_result",
          "data": {
            "text/plain": [
              "array([ 0.03937293,  0.04419107, -0.02595472, -1.29386653, -0.18440441,\n",
              "       -0.56880213, -1.05506298,  0.        ])"
            ]
          },
          "metadata": {
            "tags": []
          },
          "execution_count": 41
        }
      ]
    },
    {
      "cell_type": "code",
      "metadata": {
        "id": "LUOXaeO5vN1W",
        "outputId": "cd9cd97a-f755-4fcc-a8a4-32ca48b296ba"
      },
      "source": [
        "from sklearn.metrics import r2_score\n",
        "r_squared = r2_score(Y_test,y_pred)\n",
        "r_squared"
      ],
      "execution_count": null,
      "outputs": [
        {
          "output_type": "execute_result",
          "data": {
            "text/plain": [
              "-0.20339591128639256"
            ]
          },
          "metadata": {
            "tags": []
          },
          "execution_count": 42
        }
      ]
    },
    {
      "cell_type": "code",
      "metadata": {
        "id": "E15ACu3TvN1X",
        "outputId": "06896804-8759-4f24-e739-0902fb47f070"
      },
      "source": [
        "from sklearn.metrics import mean_squared_error\n",
        "from math import sqrt\n",
        "\n",
        "rms = sqrt(mean_squared_error(Y_test, y_pred))\n",
        "rms"
      ],
      "execution_count": null,
      "outputs": [
        {
          "output_type": "execute_result",
          "data": {
            "text/plain": [
              "1.0915800732994272"
            ]
          },
          "metadata": {
            "tags": []
          },
          "execution_count": 56
        }
      ]
    },
    {
      "cell_type": "markdown",
      "metadata": {
        "id": "SC3bGM_RvN1X"
      },
      "source": [
        "# Gradient boosting regressor:"
      ]
    },
    {
      "cell_type": "code",
      "metadata": {
        "id": "7SIQMGSSvN1Y"
      },
      "source": [
        "from sklearn.ensemble import GradientBoostingRegressor\n",
        "model = GradientBoostingRegressor(random_state=0).fit(X_train, Y_train)"
      ],
      "execution_count": null,
      "outputs": []
    },
    {
      "cell_type": "code",
      "metadata": {
        "id": "5x-IcNJKvN1Y"
      },
      "source": [
        "y_pred= model.predict(X_test)"
      ],
      "execution_count": null,
      "outputs": []
    },
    {
      "cell_type": "code",
      "metadata": {
        "id": "4WG93-zOvN1Y",
        "outputId": "75db5b78-f765-4fd9-a990-1877d4b6ad07"
      },
      "source": [
        "from sklearn.metrics import r2_score\n",
        "r_squared = r2_score(Y_test,y_pred)\n",
        "r_squared"
      ],
      "execution_count": null,
      "outputs": [
        {
          "output_type": "execute_result",
          "data": {
            "text/plain": [
              "-1.8986798169022032"
            ]
          },
          "metadata": {
            "tags": []
          },
          "execution_count": 45
        }
      ]
    },
    {
      "cell_type": "code",
      "metadata": {
        "id": "newqIPOVvN1Z",
        "outputId": "f2c3c802-3711-4d4b-e196-e061662a3691"
      },
      "source": [
        "model.score(X_train,Y_train) #Return the coefficient of determination R2 of the prediction."
      ],
      "execution_count": null,
      "outputs": [
        {
          "output_type": "execute_result",
          "data": {
            "text/plain": [
              "0.8762973589295301"
            ]
          },
          "metadata": {
            "tags": []
          },
          "execution_count": 46
        }
      ]
    },
    {
      "cell_type": "code",
      "metadata": {
        "id": "tf5ywQTuvN1Z",
        "outputId": "001b556d-e062-4269-960f-7328919c37f2"
      },
      "source": [
        "model.score(X_test,Y_test)"
      ],
      "execution_count": null,
      "outputs": [
        {
          "output_type": "execute_result",
          "data": {
            "text/plain": [
              "-1.8986798169022032"
            ]
          },
          "metadata": {
            "tags": []
          },
          "execution_count": 47
        }
      ]
    },
    {
      "cell_type": "code",
      "metadata": {
        "id": "chCcSUWnvN1Z"
      },
      "source": [
        ""
      ],
      "execution_count": null,
      "outputs": []
    },
    {
      "cell_type": "markdown",
      "metadata": {
        "id": "UkNY8T5EvN1a"
      },
      "source": [
        "# Random forest regressor:"
      ]
    },
    {
      "cell_type": "code",
      "metadata": {
        "id": "h-h8WzmWvN1a",
        "outputId": "c356220a-60bb-48dd-9717-f512943f9d0f"
      },
      "source": [
        "from sklearn.ensemble import RandomForestRegressor\n",
        "model = RandomForestRegressor(random_state=0).fit(X_train, Y_train)"
      ],
      "execution_count": null,
      "outputs": [
        {
          "output_type": "stream",
          "text": [
            "C:\\ProgramData\\Anaconda3\\lib\\site-packages\\sklearn\\ensemble\\forest.py:245: FutureWarning: The default value of n_estimators will change from 10 in version 0.20 to 100 in 0.22.\n",
            "  \"10 in version 0.20 to 100 in 0.22.\", FutureWarning)\n"
          ],
          "name": "stderr"
        }
      ]
    },
    {
      "cell_type": "code",
      "metadata": {
        "id": "gQMBJAcDvN1a"
      },
      "source": [
        "y_pred= model.predict(X_test)"
      ],
      "execution_count": null,
      "outputs": []
    },
    {
      "cell_type": "code",
      "metadata": {
        "id": "4OsEVDuRvN1b",
        "outputId": "ef874c55-2e79-48f1-bbf3-5e0ea2b44ed7"
      },
      "source": [
        "from sklearn.metrics import r2_score\n",
        "r_squared = r2_score(Y_test,y_pred)\n",
        "r_squared"
      ],
      "execution_count": null,
      "outputs": [
        {
          "output_type": "execute_result",
          "data": {
            "text/plain": [
              "-0.683685083269238"
            ]
          },
          "metadata": {
            "tags": []
          },
          "execution_count": 59
        }
      ]
    },
    {
      "cell_type": "code",
      "metadata": {
        "id": "qVBUE8NmvN1b",
        "outputId": "8904b621-59c3-4ae0-d40f-e3fe89a36f1e"
      },
      "source": [
        "model.score(X_train,Y_train)"
      ],
      "execution_count": null,
      "outputs": [
        {
          "output_type": "execute_result",
          "data": {
            "text/plain": [
              "0.7298526607788665"
            ]
          },
          "metadata": {
            "tags": []
          },
          "execution_count": 60
        }
      ]
    },
    {
      "cell_type": "code",
      "metadata": {
        "id": "ZYlrvRLuvN1b",
        "outputId": "e89f5f8a-401a-4224-c226-7c64d1854434"
      },
      "source": [
        "model.score(X_test,Y_test)"
      ],
      "execution_count": null,
      "outputs": [
        {
          "output_type": "execute_result",
          "data": {
            "text/plain": [
              "-0.683685083269238"
            ]
          },
          "metadata": {
            "tags": []
          },
          "execution_count": 61
        }
      ]
    },
    {
      "cell_type": "code",
      "metadata": {
        "id": "9koRdU0PvN1c",
        "outputId": "4f504881-9e53-4374-f723-7653539640ff"
      },
      "source": [
        "from sklearn.metrics import mean_squared_error\n",
        "from math import sqrt\n",
        "\n",
        "rms = sqrt(mean_squared_error(Y_test, y_pred))\n",
        "rms"
      ],
      "execution_count": null,
      "outputs": [
        {
          "output_type": "execute_result",
          "data": {
            "text/plain": [
              "1.0915800732994272"
            ]
          },
          "metadata": {
            "tags": []
          },
          "execution_count": 62
        }
      ]
    },
    {
      "cell_type": "markdown",
      "metadata": {
        "id": "yi8LMLTBvN1c"
      },
      "source": [
        "## Polynomial regression:"
      ]
    },
    {
      "cell_type": "code",
      "metadata": {
        "id": "7YY5OLXsvN1d",
        "outputId": "fd03390a-5c43-456d-c972-41907cc41bd1"
      },
      "source": [
        "from sklearn.preprocessing import PolynomialFeatures \n",
        "  \n",
        "poly = PolynomialFeatures(degree = 4) \n",
        "X_poly = poly.fit_transform(X) \n",
        "  \n",
        "poly.fit(X_poly, y) \n",
        "lin2 = LinearRegression() \n",
        "lin2.fit(X_poly, y) "
      ],
      "execution_count": null,
      "outputs": [
        {
          "output_type": "execute_result",
          "data": {
            "text/plain": [
              "LinearRegression(copy_X=True, fit_intercept=True, n_jobs=None, normalize=False)"
            ]
          },
          "metadata": {
            "tags": []
          },
          "execution_count": 53
        }
      ]
    },
    {
      "cell_type": "code",
      "metadata": {
        "id": "usOzMIaovN1d",
        "outputId": "6356ab84-4861-4937-a882-89b308192d52"
      },
      "source": [
        "y_pred=lin2.predict(X_test)"
      ],
      "execution_count": null,
      "outputs": [
        {
          "output_type": "error",
          "ename": "ValueError",
          "evalue": "shapes (10,8) and (495,) not aligned: 8 (dim 1) != 495 (dim 0)",
          "traceback": [
            "\u001b[1;31m---------------------------------------------------------------------------\u001b[0m",
            "\u001b[1;31mValueError\u001b[0m                                Traceback (most recent call last)",
            "\u001b[1;32m<ipython-input-54-7f75c5eadc53>\u001b[0m in \u001b[0;36m<module>\u001b[1;34m\u001b[0m\n\u001b[1;32m----> 1\u001b[1;33m \u001b[0my_pred\u001b[0m\u001b[1;33m=\u001b[0m\u001b[0mlin2\u001b[0m\u001b[1;33m.\u001b[0m\u001b[0mpredict\u001b[0m\u001b[1;33m(\u001b[0m\u001b[0mX_test\u001b[0m\u001b[1;33m)\u001b[0m\u001b[1;33m\u001b[0m\u001b[1;33m\u001b[0m\u001b[0m\n\u001b[0m",
            "\u001b[1;32mC:\\ProgramData\\Anaconda3\\lib\\site-packages\\sklearn\\linear_model\\base.py\u001b[0m in \u001b[0;36mpredict\u001b[1;34m(self, X)\u001b[0m\n\u001b[0;32m    219\u001b[0m             \u001b[0mReturns\u001b[0m \u001b[0mpredicted\u001b[0m \u001b[0mvalues\u001b[0m\u001b[1;33m.\u001b[0m\u001b[1;33m\u001b[0m\u001b[1;33m\u001b[0m\u001b[0m\n\u001b[0;32m    220\u001b[0m         \"\"\"\n\u001b[1;32m--> 221\u001b[1;33m         \u001b[1;32mreturn\u001b[0m \u001b[0mself\u001b[0m\u001b[1;33m.\u001b[0m\u001b[0m_decision_function\u001b[0m\u001b[1;33m(\u001b[0m\u001b[0mX\u001b[0m\u001b[1;33m)\u001b[0m\u001b[1;33m\u001b[0m\u001b[1;33m\u001b[0m\u001b[0m\n\u001b[0m\u001b[0;32m    222\u001b[0m \u001b[1;33m\u001b[0m\u001b[0m\n\u001b[0;32m    223\u001b[0m     \u001b[0m_preprocess_data\u001b[0m \u001b[1;33m=\u001b[0m \u001b[0mstaticmethod\u001b[0m\u001b[1;33m(\u001b[0m\u001b[0m_preprocess_data\u001b[0m\u001b[1;33m)\u001b[0m\u001b[1;33m\u001b[0m\u001b[1;33m\u001b[0m\u001b[0m\n",
            "\u001b[1;32mC:\\ProgramData\\Anaconda3\\lib\\site-packages\\sklearn\\linear_model\\base.py\u001b[0m in \u001b[0;36m_decision_function\u001b[1;34m(self, X)\u001b[0m\n\u001b[0;32m    204\u001b[0m         \u001b[0mX\u001b[0m \u001b[1;33m=\u001b[0m \u001b[0mcheck_array\u001b[0m\u001b[1;33m(\u001b[0m\u001b[0mX\u001b[0m\u001b[1;33m,\u001b[0m \u001b[0maccept_sparse\u001b[0m\u001b[1;33m=\u001b[0m\u001b[1;33m[\u001b[0m\u001b[1;34m'csr'\u001b[0m\u001b[1;33m,\u001b[0m \u001b[1;34m'csc'\u001b[0m\u001b[1;33m,\u001b[0m \u001b[1;34m'coo'\u001b[0m\u001b[1;33m]\u001b[0m\u001b[1;33m)\u001b[0m\u001b[1;33m\u001b[0m\u001b[1;33m\u001b[0m\u001b[0m\n\u001b[0;32m    205\u001b[0m         return safe_sparse_dot(X, self.coef_.T,\n\u001b[1;32m--> 206\u001b[1;33m                                dense_output=True) + self.intercept_\n\u001b[0m\u001b[0;32m    207\u001b[0m \u001b[1;33m\u001b[0m\u001b[0m\n\u001b[0;32m    208\u001b[0m     \u001b[1;32mdef\u001b[0m \u001b[0mpredict\u001b[0m\u001b[1;33m(\u001b[0m\u001b[0mself\u001b[0m\u001b[1;33m,\u001b[0m \u001b[0mX\u001b[0m\u001b[1;33m)\u001b[0m\u001b[1;33m:\u001b[0m\u001b[1;33m\u001b[0m\u001b[1;33m\u001b[0m\u001b[0m\n",
            "\u001b[1;32mC:\\ProgramData\\Anaconda3\\lib\\site-packages\\sklearn\\utils\\extmath.py\u001b[0m in \u001b[0;36msafe_sparse_dot\u001b[1;34m(a, b, dense_output)\u001b[0m\n\u001b[0;32m    140\u001b[0m         \u001b[1;32mreturn\u001b[0m \u001b[0mret\u001b[0m\u001b[1;33m\u001b[0m\u001b[1;33m\u001b[0m\u001b[0m\n\u001b[0;32m    141\u001b[0m     \u001b[1;32melse\u001b[0m\u001b[1;33m:\u001b[0m\u001b[1;33m\u001b[0m\u001b[1;33m\u001b[0m\u001b[0m\n\u001b[1;32m--> 142\u001b[1;33m         \u001b[1;32mreturn\u001b[0m \u001b[0mnp\u001b[0m\u001b[1;33m.\u001b[0m\u001b[0mdot\u001b[0m\u001b[1;33m(\u001b[0m\u001b[0ma\u001b[0m\u001b[1;33m,\u001b[0m \u001b[0mb\u001b[0m\u001b[1;33m)\u001b[0m\u001b[1;33m\u001b[0m\u001b[1;33m\u001b[0m\u001b[0m\n\u001b[0m\u001b[0;32m    143\u001b[0m \u001b[1;33m\u001b[0m\u001b[0m\n\u001b[0;32m    144\u001b[0m \u001b[1;33m\u001b[0m\u001b[0m\n",
            "\u001b[1;31mValueError\u001b[0m: shapes (10,8) and (495,) not aligned: 8 (dim 1) != 495 (dim 0)"
          ]
        }
      ]
    }
  ]
}